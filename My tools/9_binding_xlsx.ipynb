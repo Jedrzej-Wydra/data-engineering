{
 "cells": [
  {
   "cell_type": "code",
   "execution_count": 1,
   "id": "d156aaa9",
   "metadata": {},
   "outputs": [],
   "source": [
    "import pandas as pd\n",
    "import os\n",
    "from tqdm.notebook import tqdm\n",
    "import time\n",
    "import re"
   ]
  },
  {
   "cell_type": "code",
   "execution_count": 2,
   "id": "65528e52",
   "metadata": {},
   "outputs": [],
   "source": [
    "os.chdir('/Users/ww.jedrzej/Library/CloudStorage/OneDrive-Osobisty/UAM/VII rok/NCN/structered data')"
   ]
  },
  {
   "cell_type": "code",
   "execution_count": 3,
   "id": "624efcd2",
   "metadata": {},
   "outputs": [],
   "source": [
    "diff = pd.read_excel(\"thermogenesis.xlsx\")\n",
    "diff = diff.L1.unique().tolist()\n",
    "regex = re.compile(r\"^E\")\n",
    "f1 = sorted(list(filter(regex.search, os.listdir())))\n",
    "f1 = set(f1) - set(diff)\n",
    "f1 = list(f1)\n",
    "f1.sort()"
   ]
  },
  {
   "cell_type": "code",
   "execution_count": 11,
   "id": "2a7373f4",
   "metadata": {},
   "outputs": [],
   "source": [
    "f3 = f1[0:9]"
   ]
  },
  {
   "cell_type": "code",
   "execution_count": 12,
   "id": "7ef27533",
   "metadata": {},
   "outputs": [
    {
     "data": {
      "text/plain": [
       "['EIII_B1',\n",
       " 'EIII_B2',\n",
       " 'EIII_B3',\n",
       " 'EIII_B4',\n",
       " 'EIII_B5',\n",
       " 'EIII_B6',\n",
       " 'EIII_B7',\n",
       " 'EIII_B8',\n",
       " 'EIII_B9']"
      ]
     },
     "execution_count": 12,
     "metadata": {},
     "output_type": "execute_result"
    }
   ],
   "source": [
    "f3"
   ]
  },
  {
   "cell_type": "code",
   "execution_count": 30,
   "id": "4805e340",
   "metadata": {},
   "outputs": [
    {
     "data": {
      "text/html": [
       "<div>\n",
       "<style scoped>\n",
       "    .dataframe tbody tr th:only-of-type {\n",
       "        vertical-align: middle;\n",
       "    }\n",
       "\n",
       "    .dataframe tbody tr th {\n",
       "        vertical-align: top;\n",
       "    }\n",
       "\n",
       "    .dataframe thead th {\n",
       "        text-align: right;\n",
       "    }\n",
       "</style>\n",
       "<table border=\"1\" class=\"dataframe\">\n",
       "  <thead>\n",
       "    <tr style=\"text-align: right;\">\n",
       "      <th></th>\n",
       "      <th>V1</th>\n",
       "      <th>V2</th>\n",
       "      <th>V3</th>\n",
       "      <th>V4</th>\n",
       "      <th>file</th>\n",
       "      <th>date</th>\n",
       "      <th>mean</th>\n",
       "      <th>age_hours</th>\n",
       "      <th>thermogenesis</th>\n",
       "    </tr>\n",
       "  </thead>\n",
       "  <tbody>\n",
       "    <tr>\n",
       "      <th>0</th>\n",
       "      <td>EIII_B1</td>\n",
       "      <td>12A_3</td>\n",
       "      <td>D</td>\n",
       "      <td>NaN</td>\n",
       "      <td>IR006520</td>\n",
       "      <td>2023-08-15T14:06:36Z</td>\n",
       "      <td>23.281</td>\n",
       "      <td>1.000000</td>\n",
       "      <td>0.000</td>\n",
       "    </tr>\n",
       "    <tr>\n",
       "      <th>1</th>\n",
       "      <td>EIII_B1</td>\n",
       "      <td>12A_3</td>\n",
       "      <td>D</td>\n",
       "      <td>NaN</td>\n",
       "      <td>IR006523</td>\n",
       "      <td>2023-08-16T13:20:42Z</td>\n",
       "      <td>26.217</td>\n",
       "      <td>25.235000</td>\n",
       "      <td>2.936</td>\n",
       "    </tr>\n",
       "    <tr>\n",
       "      <th>2</th>\n",
       "      <td>EIII_B1</td>\n",
       "      <td>12A_3</td>\n",
       "      <td>D</td>\n",
       "      <td>NaN</td>\n",
       "      <td>IR006533</td>\n",
       "      <td>2023-08-17T12:16:58Z</td>\n",
       "      <td>27.326</td>\n",
       "      <td>49.172778</td>\n",
       "      <td>4.045</td>\n",
       "    </tr>\n",
       "    <tr>\n",
       "      <th>3</th>\n",
       "      <td>EIII_B1</td>\n",
       "      <td>12A_3</td>\n",
       "      <td>D</td>\n",
       "      <td>NaN</td>\n",
       "      <td>IR006544</td>\n",
       "      <td>2023-08-18T11:31:38Z</td>\n",
       "      <td>27.349</td>\n",
       "      <td>73.417222</td>\n",
       "      <td>4.068</td>\n",
       "    </tr>\n",
       "    <tr>\n",
       "      <th>4</th>\n",
       "      <td>EIII_B1</td>\n",
       "      <td>12A_3</td>\n",
       "      <td>D</td>\n",
       "      <td>NaN</td>\n",
       "      <td>IR006558</td>\n",
       "      <td>2023-08-18T15:53:46Z</td>\n",
       "      <td>26.548</td>\n",
       "      <td>78.786111</td>\n",
       "      <td>3.267</td>\n",
       "    </tr>\n",
       "    <tr>\n",
       "      <th>...</th>\n",
       "      <td>...</td>\n",
       "      <td>...</td>\n",
       "      <td>...</td>\n",
       "      <td>...</td>\n",
       "      <td>...</td>\n",
       "      <td>...</td>\n",
       "      <td>...</td>\n",
       "      <td>...</td>\n",
       "      <td>...</td>\n",
       "    </tr>\n",
       "    <tr>\n",
       "      <th>159</th>\n",
       "      <td>EIII_B1</td>\n",
       "      <td>BEZ</td>\n",
       "      <td>F</td>\n",
       "      <td>NaN</td>\n",
       "      <td>IR006640</td>\n",
       "      <td>2023-08-25T12:29:52Z</td>\n",
       "      <td>24.727</td>\n",
       "      <td>172.702222</td>\n",
       "      <td>1.727</td>\n",
       "    </tr>\n",
       "    <tr>\n",
       "      <th>160</th>\n",
       "      <td>EIII_B1</td>\n",
       "      <td>BEZ</td>\n",
       "      <td>F</td>\n",
       "      <td>NaN</td>\n",
       "      <td>IR006650</td>\n",
       "      <td>2023-08-26T15:22:20Z</td>\n",
       "      <td>25.401</td>\n",
       "      <td>200.576667</td>\n",
       "      <td>2.401</td>\n",
       "    </tr>\n",
       "    <tr>\n",
       "      <th>161</th>\n",
       "      <td>EIII_B1</td>\n",
       "      <td>BEZ</td>\n",
       "      <td>F</td>\n",
       "      <td>NaN</td>\n",
       "      <td>IR006655</td>\n",
       "      <td>2023-08-27T15:59:52Z</td>\n",
       "      <td>25.123</td>\n",
       "      <td>226.202222</td>\n",
       "      <td>2.123</td>\n",
       "    </tr>\n",
       "    <tr>\n",
       "      <th>162</th>\n",
       "      <td>EIII_B1</td>\n",
       "      <td>BEZ</td>\n",
       "      <td>F</td>\n",
       "      <td>NaN</td>\n",
       "      <td>IR006656</td>\n",
       "      <td>2023-08-28T11:54:46Z</td>\n",
       "      <td>24.605</td>\n",
       "      <td>247.117222</td>\n",
       "      <td>1.605</td>\n",
       "    </tr>\n",
       "    <tr>\n",
       "      <th>163</th>\n",
       "      <td>EIII_B1</td>\n",
       "      <td>BEZ</td>\n",
       "      <td>F</td>\n",
       "      <td>NaN</td>\n",
       "      <td>IR006659</td>\n",
       "      <td>2023-08-29T11:16:26Z</td>\n",
       "      <td>24.263</td>\n",
       "      <td>271.478333</td>\n",
       "      <td>1.263</td>\n",
       "    </tr>\n",
       "  </tbody>\n",
       "</table>\n",
       "<p>164 rows × 9 columns</p>\n",
       "</div>"
      ],
      "text/plain": [
       "          V1     V2 V3  V4      file                  date    mean  \\\n",
       "0    EIII_B1  12A_3  D NaN  IR006520  2023-08-15T14:06:36Z  23.281   \n",
       "1    EIII_B1  12A_3  D NaN  IR006523  2023-08-16T13:20:42Z  26.217   \n",
       "2    EIII_B1  12A_3  D NaN  IR006533  2023-08-17T12:16:58Z  27.326   \n",
       "3    EIII_B1  12A_3  D NaN  IR006544  2023-08-18T11:31:38Z  27.349   \n",
       "4    EIII_B1  12A_3  D NaN  IR006558  2023-08-18T15:53:46Z  26.548   \n",
       "..       ...    ... ..  ..       ...                   ...     ...   \n",
       "159  EIII_B1    BEZ  F NaN  IR006640  2023-08-25T12:29:52Z  24.727   \n",
       "160  EIII_B1    BEZ  F NaN  IR006650  2023-08-26T15:22:20Z  25.401   \n",
       "161  EIII_B1    BEZ  F NaN  IR006655  2023-08-27T15:59:52Z  25.123   \n",
       "162  EIII_B1    BEZ  F NaN  IR006656  2023-08-28T11:54:46Z  24.605   \n",
       "163  EIII_B1    BEZ  F NaN  IR006659  2023-08-29T11:16:26Z  24.263   \n",
       "\n",
       "      age_hours  thermogenesis  \n",
       "0      1.000000          0.000  \n",
       "1     25.235000          2.936  \n",
       "2     49.172778          4.045  \n",
       "3     73.417222          4.068  \n",
       "4     78.786111          3.267  \n",
       "..          ...            ...  \n",
       "159  172.702222          1.727  \n",
       "160  200.576667          2.401  \n",
       "161  226.202222          2.123  \n",
       "162  247.117222          1.605  \n",
       "163  271.478333          1.263  \n",
       "\n",
       "[164 rows x 9 columns]"
      ]
     },
     "execution_count": 30,
     "metadata": {},
     "output_type": "execute_result"
    }
   ],
   "source": [
    "pd.read_csv(i + '/' + os.listdir(i)[0])"
   ]
  },
  {
   "cell_type": "code",
   "execution_count": 13,
   "id": "bd5e9adb",
   "metadata": {},
   "outputs": [
    {
     "name": "stdout",
     "output_type": "stream",
     "text": [
      "2.851625919342041 secs\n"
     ]
    }
   ],
   "source": [
    "start = time.time()\n",
    "EIII_thermogenesis = pd.DataFrame()\n",
    "for i in f3:\n",
    "    csv = pd.read_csv(i + '/' + os.listdir(i)[0])\n",
    "    EIII_thermogenesis = pd.concat([EIII_thermogenesis, csv])\n",
    "EIII_thermogenesis.to_excel(\"EIII_thermogenesis.xlsx\", index = False)\n",
    "print(str((time.time() - start)) + ' secs')"
   ]
  },
  {
   "cell_type": "code",
   "execution_count": 44,
   "id": "d445e0a8",
   "metadata": {},
   "outputs": [
    {
     "name": "stdout",
     "output_type": "stream",
     "text": [
      "0.08765220642089844 secs\n"
     ]
    }
   ],
   "source": [
    "start = time.time()\n",
    "EVIII_thermogenesis = pd.DataFrame()\n",
    "for i in f3:\n",
    "    csv = pd.read_csv(i + '/' + os.listdir(i)[0])\n",
    "    EVIII_thermogenesis = pd.concat([EVIII_thermogenesis, csv])\n",
    "EVIII_thermogenesis.to_excel(\"EVIII_thermogenesis.xlsx\", index = False)\n",
    "print(str((time.time() - start)) + ' secs')"
   ]
  }
 ],
 "metadata": {
  "kernelspec": {
   "display_name": "Python 3 (ipykernel)",
   "language": "python",
   "name": "python3"
  },
  "language_info": {
   "codemirror_mode": {
    "name": "ipython",
    "version": 3
   },
   "file_extension": ".py",
   "mimetype": "text/x-python",
   "name": "python",
   "nbconvert_exporter": "python",
   "pygments_lexer": "ipython3",
   "version": "3.10.0"
  }
 },
 "nbformat": 4,
 "nbformat_minor": 5
}
